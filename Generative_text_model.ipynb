{
  "nbformat": 4,
  "nbformat_minor": 0,
  "metadata": {
    "colab": {
      "provenance": []
    },
    "kernelspec": {
      "name": "python3",
      "display_name": "Python 3"
    },
    "language_info": {
      "name": "python"
    }
  },
  "cells": [
    {
      "cell_type": "code",
      "execution_count": 1,
      "metadata": {
        "id": "FvmQ7LxA46r2"
      },
      "outputs": [],
      "source": [
        "# Library Imports\n",
        "import numpy as np\n",
        "import pandas as pd"
      ]
    },
    {
      "cell_type": "code",
      "source": [
        "import tensorflow as tf\n",
        "from transformers import GPT2LMHeadModel , GPT2Tokenizer , pipeline\n",
        "import torch"
      ],
      "metadata": {
        "id": "eNvIpdSJ5Ofd"
      },
      "execution_count": 2,
      "outputs": []
    },
    {
      "cell_type": "code",
      "source": [
        "# Taking Input\n",
        "#text = \"OpenAI comes from industry experts who want to bring AI to the masses. It's linked to the non-profit research company OpenAI, co-chaired by Elon Musk and Sam Altman, and sponsored by companies such as Amazon Web Services, Microsoft, and Infosys who are trying to make AI accessible—hence the name. Contributors discuss their collective efforts to promote and advance AI technologies through long-term research. It’s a valuable resource for anyone interested in the future of AI.\"\n",
        "text = input (\"Enter your sentence here \\n\") # for realtime input"
      ],
      "metadata": {
        "colab": {
          "base_uri": "https://localhost:8080/"
        },
        "id": "C18_BgMW5ov8",
        "outputId": "6980d77a-3ec7-45b8-e69e-25a043c6ad4e"
      },
      "execution_count": 6,
      "outputs": [
        {
          "name": "stdout",
          "output_type": "stream",
          "text": [
            "Enter your sentence here \n",
            "Capitalism is an economic system where private entities own and control the means of production, and competition drives economic activity. It's characterized by private property, profit motive, and minimal government intervention. While it's credited with driving technological progress, economic growth, and poverty reduction, it also faces criticism for potential inequalities, exploitation, and environmental damage\n"
          ]
        }
      ]
    },
    {
      "cell_type": "code",
      "source": [
        "# Function to autogenerate text\n",
        "def bloggen():\n",
        "  generator = pipeline (task = 'text-generation', model = 'gpt2')\n",
        "  x = generator(text, max_length = 500, num_return_sequences = 5)\n",
        "  print(x)"
      ],
      "metadata": {
        "id": "xxK0BG5o6UcS"
      },
      "execution_count": 7,
      "outputs": []
    },
    {
      "cell_type": "code",
      "source": [
        "bloggen()"
      ],
      "metadata": {
        "colab": {
          "base_uri": "https://localhost:8080/"
        },
        "id": "Wjx1oduQ6y58",
        "outputId": "1b24ed18-b98e-43e6-f525-2880679fbe85"
      },
      "execution_count": 8,
      "outputs": [
        {
          "output_type": "stream",
          "name": "stderr",
          "text": [
            "Device set to use cpu\n",
            "Truncation was not explicitly activated but `max_length` is provided a specific value, please use `truncation=True` to explicitly truncate examples to max length. Defaulting to 'longest_first' truncation strategy. If you encode pairs of sequences (GLUE-style) with the tokenizer you can select this strategy more precisely by providing a specific strategy to `truncation`.\n",
            "Setting `pad_token_id` to `eos_token_id`:50256 for open-end generation.\n",
            "Both `max_new_tokens` (=256) and `max_length`(=500) seem to have been set. `max_new_tokens` will take precedence. Please refer to the documentation for more information. (https://huggingface.co/docs/transformers/main/en/main_classes/text_generation)\n"
          ]
        },
        {
          "output_type": "stream",
          "name": "stdout",
          "text": [
            "[{'generated_text': \"Capitalism is an economic system where private entities own and control the means of production, and competition drives economic activity. It's characterized by private property, profit motive, and minimal government intervention. While it's credited with driving technological progress, economic growth, and poverty reduction, it also faces criticism for potential inequalities, exploitation, and environmental damage.\\n\\nWhat's more, many of the new technologies that have been developed over recent decades have not been conducive to economic growth, and are, ironically, more likely to affect the broader economy as a whole, rather than just the US economy. The result of this is that the world is more complicated than most people realize. And as a result, it's increasingly difficult for policy makers and policymakers to focus on new technologies.\\n\\nThe current US government's approach to creating new technologies is focused on the cost of creating new technologies, rather than on the amount of government spending to create them. This means there's a huge amount of uncertainty about how big of a cost to add new technologies and how effective they will actually be in our lives. As a result, there's been an inability to move ahead with the pace of technological development—even when it's beneficial to the nation as a whole.\\n\\nThe situation doesn't get better in an orderly fashion: It is currently estimated that the US budget for transportation spending is currently at $23.1 trillion, a staggering $4.8 trillion more than the total cost of the entire nation's transportation system.\\n\\nThe current transportation infrastructure is currently being built as a result of the cost of creating the most new technologies\"}, {'generated_text': \"Capitalism is an economic system where private entities own and control the means of production, and competition drives economic activity. It's characterized by private property, profit motive, and minimal government intervention. While it's credited with driving technological progress, economic growth, and poverty reduction, it also faces criticism for potential inequalities, exploitation, and environmental damage.\\n\\nThe U.S. is a country of many different economic systems.\\n\\nThe world is a capitalist society.\\n\\nThe United States is a capitalist state.\\n\\nThe U.S. is a multinational economy.\\n\\nThe U.S. is a nation-state.\\n\\nThe U.S. is a nation-state.\\n\\nThe U.S. has a global presence.\\n\\nThe U.S. is a nation-state.\\n\\nThe U.S. is a nation-state.\\n\\nThe U.S. is a country-states.\\n\\nThe U.S. is a nation-state.\\n\\nThe U.S. is a nation-state.\\n\\nThe U.S. has a global presence.\\n\\nThe U.S. is a nation-state.\\n\\nThe U.S. has a nation-state.\\n\\nThe U.S. is a nation-state.\\n\\nThe U.S. has a nation-state.\\n\\nThe U.S. has a nation-state.\\n\\nThe U.S. has a nation-state.\\n\\nThe U.S. has a nation-state.\\n\\n\"}, {'generated_text': 'Capitalism is an economic system where private entities own and control the means of production, and competition drives economic activity. It\\'s characterized by private property, profit motive, and minimal government intervention. While it\\'s credited with driving technological progress, economic growth, and poverty reduction, it also faces criticism for potential inequalities, exploitation, and environmental damage.\\n\\nThe most recent \"Growth in the Public Sector\" report by the Congressional Budget Office showed that the U.S. economy is projected to continue to grow at a slower rate than many other developed countries. It predicts that by 2025, the U.S. economy will be 5.3 percent larger than the average global economy, and will see a 2 percent population growth rate. This suggests that growth in the U.S. economy will continue, likely to accelerate, until 2027.\\n\\nThe bottom line is that the U.S. has seen a severe decline in U.S. inequality over the past five years. The U.S. has produced more jobs and increased economic growth than any other advanced nation. It has seen a higher number of women working in the U.S. than any other advanced country. It has more people living in poverty, more people living in poverty than any other advanced country. It has more people being denied the right to vote, more people being denied basic services, and more people being denied basic medical care.\\n\\nDespite the economic benefits, the U.S. faces an unemployment rate of 3.6 percent. The U.S. has the highest unemployment rate in the world, at 9.2'}, {'generated_text': \"Capitalism is an economic system where private entities own and control the means of production, and competition drives economic activity. It's characterized by private property, profit motive, and minimal government intervention. While it's credited with driving technological progress, economic growth, and poverty reduction, it also faces criticism for potential inequalities, exploitation, and environmental damage.\\n\\nWhat do these inequalities mean?\\n\\nThe most difficult question to answer in recent years is the underlying cause of the inequalities. In fact, there's been a lot of discussion of inequality as a way to address inequality, but there's been a lot of discussion about how to solve it. There's a lot of talk about the economic and social effects of inequality, but it's been very difficult to determine exactly what causes these inequalities.\\n\\nOne thing that's clear to me is that what's happening in China, and what's happening elsewhere in the world, is that there's been a lot of discussion about how to fix their inequality. We've seen some progress in the past year or two, but it's very difficult to determine what is actually happening in China.\\n\\nBut the fact that there's been a lot of progress means that it's possible to address certain issues in China. I think the good news is that there are a lot of people that are doing good work that are doing it in a constructive and constructive manner. That's what we've seen in China as of late.\\n\\nHow do you see the future for inequality?\\n\\nI think, for the first time, we're seeing the transformation of China into a really healthy\"}, {'generated_text': \"Capitalism is an economic system where private entities own and control the means of production, and competition drives economic activity. It's characterized by private property, profit motive, and minimal government intervention. While it's credited with driving technological progress, economic growth, and poverty reduction, it also faces criticism for potential inequalities, exploitation, and environmental damage.\\n\\nI won't go into all the problems that led to the current crisis, but there may be many more that have little or no bearing on the current crisis.\\n\\nThe Problem of Poverty\\n\\nThe problem of poverty is complex and often complex. It's not one of financial resources, but rather an economic problem that affects a large part of the population. Poverty is a major problem in the United States. The poverty rate in the United States is now 40.2 percent, the most of any developed country in the world. It is still a problem, and even the United States has been relatively successful in combating the problem. In fact, over the past decade, the American poverty rate has steadily risen.\\n\\nUnfortunately, the poverty rate is also a major problem in the United Kingdom, where the poverty rate in England is now at a record high. In 2009, the British average unemployment rate was 8.9 percent. It's still above the national average, but it's significantly higher than the national average. The British average for the first time in its history was more than 30 percent.\\n\\nIt's also a major problem in the United States. The poverty rate in the United States is currently 23.1 percent.\\n\\nThe Poverty Rate in\"}]\n"
          ]
        }
      ]
    }
  ]
}